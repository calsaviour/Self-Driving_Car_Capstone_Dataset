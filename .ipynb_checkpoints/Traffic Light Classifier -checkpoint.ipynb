{
 "cells": [
  {
   "cell_type": "code",
   "execution_count": 73,
   "metadata": {},
   "outputs": [],
   "source": [
    "from keras.preprocessing.image import ImageDataGenerator, array_to_img, img_to_array, load_img"
   ]
  },
  {
   "cell_type": "code",
   "execution_count": 74,
   "metadata": {},
   "outputs": [],
   "source": [
    "image_simulator_dir='data/simulator/'\n",
    "image_train_dir='data/simulator/train'\n",
    "image_validation_dir='data/simulator/validation'\n",
    "\n",
    "## red directory\n",
    "image_red_light_dir='red/'\n",
    "image_red_dir = image_simulator_dir + image_red_light_dir\n",
    "\n",
    "## green directory\n",
    "image_green_light_dir='green/'\n",
    "image_green_dir = image_simulator_dir + image_green_light_dir\n",
    "\n",
    "## yellow directory\n",
    "image_yellow_light_dir='yellow/'\n",
    "image_yellow_dir = image_simulator_dir + image_yellow_light_dir"
   ]
  },
  {
   "cell_type": "markdown",
   "metadata": {},
   "source": [
    "## Generate more training dataset"
   ]
  },
  {
   "cell_type": "code",
   "execution_count": 75,
   "metadata": {},
   "outputs": [],
   "source": [
    "datagen = ImageDataGenerator(\n",
    "        rotation_range=40,\n",
    "        width_shift_range=0.2,\n",
    "        height_shift_range=0.2,\n",
    "        rescale=1./255,\n",
    "        shear_range=0.2,\n",
    "        zoom_range=0.2,\n",
    "        horizontal_flip=True,\n",
    "        fill_mode='nearest')\n",
    "\n",
    "\n",
    "def augmentated_image(_image_path, _source_image, _image_train_dir, _save_prefix, _save_format):\n",
    "    img = load_img(_image_path + _source_image)  # this is a PIL image\n",
    "    x = img_to_array(img)  # this is a Numpy array with shape (3, 150, 150)\n",
    "    x = x.reshape((1,) + x.shape)  # this is a Numpy array with shape (1, 3, 150, 150)\n",
    "    # the .flow() command below generates batches of randomly transformed images\n",
    "    # and saves the results to the `preview/` directory\n",
    "    i = 0\n",
    "    for batch in datagen.flow(x, batch_size=1,\n",
    "                              save_to_dir=_image_train_dir, \n",
    "                              save_prefix=_save_prefix, save_format=_save_format):\n",
    "        i += 1\n",
    "        if i > 20:\n",
    "            break  # otherwise the generator would loop indefinitely"
   ]
  },
  {
   "cell_type": "markdown",
   "metadata": {},
   "source": [
    "### Generate red light training dataset"
   ]
  },
  {
   "cell_type": "code",
   "execution_count": 76,
   "metadata": {},
   "outputs": [],
   "source": [
    "augmentated_image(image_red_dir, 'red_0.jpg', image_train_dir, 'red', 'jpeg')\n",
    "augmentated_image(image_red_dir, 'red_1.jpg', image_train_dir, 'red', 'jpeg')\n",
    "augmentated_image(image_red_dir, 'red_2.jpg', image_train_dir, 'red', 'jpeg')\n",
    "augmentated_image(image_red_dir, 'red_3.jpg', image_train_dir, 'red', 'jpeg')"
   ]
  },
  {
   "cell_type": "markdown",
   "metadata": {},
   "source": [
    "### Generate green light training dataset "
   ]
  },
  {
   "cell_type": "code",
   "execution_count": 77,
   "metadata": {},
   "outputs": [],
   "source": [
    "augmentated_image(image_green_dir, 'green_0.jpg', image_train_dir, 'green', 'jpeg')\n",
    "augmentated_image(image_green_dir, 'green_1.jpg', image_train_dir, 'green', 'jpeg')\n",
    "augmentated_image(image_green_dir, 'green_2.jpg', image_train_dir, 'green', 'jpeg')\n",
    "augmentated_image(image_green_dir, 'green_3.jpg', image_train_dir, 'green', 'jpeg')"
   ]
  },
  {
   "cell_type": "markdown",
   "metadata": {},
   "source": [
    "### Generate yellow light training dataset"
   ]
  },
  {
   "cell_type": "code",
   "execution_count": 80,
   "metadata": {},
   "outputs": [],
   "source": [
    "augmentated_image(image_yellow_dir, 'yellow_0.jpg', image_train_dir, 'yellow', 'jpeg')\n",
    "augmentated_image(image_yellow_dir, 'yellow_1.jpg', image_train_dir, 'yellow', 'jpeg')\n",
    "augmentated_image(image_yellow_dir, 'yellow_2.jpg', image_train_dir, 'yellow', 'jpeg')\n",
    "augmentated_image(image_yellow_dir, 'yellow_3.jpg', image_train_dir, 'yellow', 'jpeg')"
   ]
  },
  {
   "cell_type": "code",
   "execution_count": null,
   "metadata": {},
   "outputs": [],
   "source": []
  }
 ],
 "metadata": {
  "kernelspec": {
   "display_name": "Python 2",
   "language": "python",
   "name": "python2"
  },
  "language_info": {
   "codemirror_mode": {
    "name": "ipython",
    "version": 2
   },
   "file_extension": ".py",
   "mimetype": "text/x-python",
   "name": "python",
   "nbconvert_exporter": "python",
   "pygments_lexer": "ipython2",
   "version": "2.7.6"
  }
 },
 "nbformat": 4,
 "nbformat_minor": 2
}
