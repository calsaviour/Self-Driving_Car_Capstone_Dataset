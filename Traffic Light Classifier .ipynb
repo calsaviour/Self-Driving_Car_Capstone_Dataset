{
 "cells": [
  {
   "cell_type": "code",
   "execution_count": 1,
   "metadata": {},
   "outputs": [
    {
     "name": "stderr",
     "output_type": "stream",
     "text": [
      "Using TensorFlow backend.\n"
     ]
    }
   ],
   "source": [
    "from keras.preprocessing.image import ImageDataGenerator, array_to_img, img_to_array, load_img"
   ]
  },
  {
   "cell_type": "code",
   "execution_count": 2,
   "metadata": {},
   "outputs": [
    {
     "name": "stdout",
     "output_type": "stream",
     "text": [
      "2.0.8\n"
     ]
    }
   ],
   "source": [
    "import keras\n",
    "print(keras.__version__)"
   ]
  },
  {
   "cell_type": "code",
   "execution_count": 3,
   "metadata": {
    "collapsed": true
   },
   "outputs": [],
   "source": [
    "image_simulator_dir='data/simulator/'\n",
    "image_train_dir='data/simulator/train'\n",
    "image_validation_dir='data/simulator/validation'\n",
    "\n",
    "## red directory\n",
    "image_red_light_dir='red/'\n",
    "image_red_dir = image_simulator_dir + image_red_light_dir\n",
    "\n",
    "## green directory\n",
    "image_green_light_dir='green/'\n",
    "image_green_dir = image_simulator_dir + image_green_light_dir\n",
    "\n",
    "## yellow directory\n",
    "image_yellow_light_dir='yellow/'\n",
    "image_yellow_dir = image_simulator_dir + image_yellow_light_dir"
   ]
  },
  {
   "cell_type": "markdown",
   "metadata": {},
   "source": [
    "## Generate more training dataset"
   ]
  },
  {
   "cell_type": "code",
   "execution_count": 4,
   "metadata": {
    "collapsed": true
   },
   "outputs": [],
   "source": [
    "datagen = ImageDataGenerator(\n",
    "        rotation_range=0,\n",
    "        width_shift_range=0.2,\n",
    "        height_shift_range=0.2,\n",
    "        #rescale=1./255,\n",
    "        shear_range=0.2,\n",
    "        zoom_range=0.2,\n",
    "        horizontal_flip=True,\n",
    "        fill_mode='nearest')\n",
    "\n",
    "\n",
    "def augmentated_image(_number_of_outputs, _image_path, _source_image, _image_train_dir, _save_prefix, _save_format):\n",
    "    img = load_img(_image_path + _source_image)  # this is a PIL image\n",
    "    x = img_to_array(img)  # this is a Numpy array with shape (3, 150, 150)\n",
    "    x = x.reshape((1,) + x.shape)  # this is a Numpy array with shape (1, 3, 150, 150)\n",
    "    # the .flow() command below generates batches of randomly transformed images\n",
    "    # and saves the results to the `preview/` directory\n",
    "    i = 0\n",
    "    for batch in datagen.flow(x, batch_size=1,\n",
    "                              save_to_dir=_image_train_dir, \n",
    "                              save_prefix=_save_prefix, save_format=_save_format):\n",
    "        i += 1\n",
    "        if i > _number_of_outputs:\n",
    "            break  # otherwise the generator would loop indefinitely"
   ]
  },
  {
   "cell_type": "markdown",
   "metadata": {},
   "source": [
    "### Generate red light training dataset"
   ]
  },
  {
   "cell_type": "code",
   "execution_count": 5,
   "metadata": {
    "collapsed": true
   },
   "outputs": [],
   "source": [
    "augmentated_image(200, image_red_dir, 'red_0.jpg', image_train_dir + '/red', 'red', 'jpeg')\n",
    "augmentated_image(200, image_red_dir, 'red_1.jpg', image_train_dir + '/red', 'red', 'jpeg')\n",
    "augmentated_image(200, image_red_dir, 'red_2.jpg', image_train_dir + '/red', 'red', 'jpeg')\n",
    "augmentated_image(200, image_red_dir, 'red_3.jpg', image_train_dir + '/red', 'red', 'jpeg')"
   ]
  },
  {
   "cell_type": "markdown",
   "metadata": {},
   "source": [
    "### Generate green light training dataset "
   ]
  },
  {
   "cell_type": "code",
   "execution_count": 6,
   "metadata": {
    "collapsed": true
   },
   "outputs": [],
   "source": [
    "augmentated_image(200, image_green_dir, 'green_0.jpg', image_train_dir + '/green', 'green', 'jpeg')\n",
    "augmentated_image(200, image_green_dir, 'green_1.jpg', image_train_dir + '/green', 'green', 'jpeg')\n",
    "augmentated_image(200, image_green_dir, 'green_2.jpg', image_train_dir + '/green', 'green', 'jpeg')\n",
    "augmentated_image(200, image_green_dir, 'green_3.jpg', image_train_dir + '/green', 'green', 'jpeg')"
   ]
  },
  {
   "cell_type": "markdown",
   "metadata": {},
   "source": [
    "### Generate yellow light training dataset"
   ]
  },
  {
   "cell_type": "code",
   "execution_count": 7,
   "metadata": {
    "collapsed": true
   },
   "outputs": [],
   "source": [
    "augmentated_image(200, image_yellow_dir, 'yellow_0.jpg', image_train_dir + '/yellow', 'yellow', 'jpeg')\n",
    "augmentated_image(200, image_yellow_dir, 'yellow_1.jpg', image_train_dir + '/yellow', 'yellow', 'jpeg')\n",
    "augmentated_image(200, image_yellow_dir, 'yellow_2.jpg', image_train_dir + '/yellow', 'yellow', 'jpeg')\n",
    "augmentated_image(200, image_yellow_dir, 'yellow_3.jpg', image_train_dir + '/yellow', 'yellow', 'jpeg')"
   ]
  },
  {
   "cell_type": "markdown",
   "metadata": {},
   "source": [
    "## Validation Data Set"
   ]
  },
  {
   "cell_type": "markdown",
   "metadata": {},
   "source": [
    "### Generate red light validation dataset"
   ]
  },
  {
   "cell_type": "code",
   "execution_count": 8,
   "metadata": {
    "collapsed": true
   },
   "outputs": [],
   "source": [
    "augmentated_image(50, image_red_dir, 'red_0.jpg', image_validation_dir + '/red', 'red', 'jpeg')\n",
    "augmentated_image(50, image_red_dir, 'red_1.jpg', image_validation_dir + '/red', 'red', 'jpeg')\n",
    "augmentated_image(50, image_red_dir, 'red_2.jpg', image_validation_dir + '/red', 'red', 'jpeg')\n",
    "augmentated_image(50, image_red_dir, 'red_3.jpg', image_validation_dir + '/red', 'red', 'jpeg')"
   ]
  },
  {
   "cell_type": "markdown",
   "metadata": {},
   "source": [
    "### Generate green light validation dataset"
   ]
  },
  {
   "cell_type": "code",
   "execution_count": 9,
   "metadata": {
    "collapsed": true
   },
   "outputs": [],
   "source": [
    "augmentated_image(50, image_green_dir, 'green_0.jpg', image_validation_dir + '/green', 'green', 'jpeg')\n",
    "augmentated_image(50, image_green_dir, 'green_1.jpg', image_validation_dir + '/green', 'green', 'jpeg')\n",
    "augmentated_image(50, image_green_dir, 'green_2.jpg', image_validation_dir + '/green', 'green', 'jpeg')\n",
    "augmentated_image(50, image_green_dir, 'green_3.jpg', image_validation_dir + '/green', 'green', 'jpeg')"
   ]
  },
  {
   "cell_type": "markdown",
   "metadata": {},
   "source": [
    "### Generate yellow light validation dataset"
   ]
  },
  {
   "cell_type": "code",
   "execution_count": 10,
   "metadata": {
    "collapsed": true
   },
   "outputs": [],
   "source": [
    "augmentated_image(50, image_yellow_dir, 'yellow_0.jpg', image_validation_dir + '/yellow', 'yellow', 'jpeg')\n",
    "augmentated_image(50, image_yellow_dir, 'yellow_1.jpg', image_validation_dir + '/yellow', 'yellow', 'jpeg')\n",
    "augmentated_image(50, image_yellow_dir, 'yellow_2.jpg', image_validation_dir + '/yellow', 'yellow', 'jpeg')\n",
    "augmentated_image(50, image_yellow_dir, 'yellow_3.jpg', image_validation_dir + '/yellow', 'yellow', 'jpeg')"
   ]
  },
  {
   "cell_type": "markdown",
   "metadata": {},
   "source": [
    "## Convolution Neural Network"
   ]
  },
  {
   "cell_type": "code",
   "execution_count": 11,
   "metadata": {
    "collapsed": true
   },
   "outputs": [],
   "source": [
    "from keras.preprocessing.image import ImageDataGenerator\n",
    "from keras.models import Sequential\n",
    "from keras.layers import Conv2D, MaxPooling2D\n",
    "from keras.layers import Activation, Dropout, Flatten, Dense\n",
    "from keras import backend as K\n",
    "\n",
    "# dimensions of our images.\n",
    "img_width, img_height = 150, 150\n",
    "\n",
    "if K.image_data_format() == 'channels_first':\n",
    "    input_shape = (3, img_width, img_height)\n",
    "else:\n",
    "    input_shape = (img_width, img_height, 3)\n",
    "    \n",
    "model = Sequential()\n",
    "model.add(Conv2D(32, (3, 3), input_shape=input_shape))\n",
    "model.add(Activation('relu'))\n",
    "model.add(MaxPooling2D(pool_size=(2, 2)))\n",
    "\n",
    "model.add(Conv2D(32, (3, 3)))\n",
    "model.add(Activation('relu'))\n",
    "model.add(MaxPooling2D(pool_size=(2, 2)))\n",
    "\n",
    "model.add(Conv2D(64, (3, 3)))\n",
    "model.add(Activation('relu'))\n",
    "model.add(MaxPooling2D(pool_size=(2, 2)))\n",
    "\n",
    "model.add(Flatten())\n",
    "model.add(Dense(64))\n",
    "model.add(Activation('relu'))\n",
    "model.add(Dropout(0.5))\n",
    "model.add(Dense(1))\n",
    "model.add(Activation('sigmoid'))"
   ]
  },
  {
   "cell_type": "code",
   "execution_count": 12,
   "metadata": {},
   "outputs": [],
   "source": [
    "model.compile(loss='binary_crossentropy',\n",
    "              optimizer='rmsprop',\n",
    "              metrics=['accuracy'])"
   ]
  },
  {
   "cell_type": "code",
   "execution_count": 13,
   "metadata": {
    "collapsed": true
   },
   "outputs": [],
   "source": [
    "batch_size = 16\n",
    "\n",
    "# this is the augmentation configuration we will use for training\n",
    "train_datagen = ImageDataGenerator(\n",
    "        rescale=1./255,\n",
    "        shear_range=0.2,\n",
    "        zoom_range=0.2,\n",
    "        horizontal_flip=True)\n",
    "\n",
    "# this is the augmentation configuration we will use for testing:\n",
    "# only rescaling\n",
    "test_datagen = ImageDataGenerator(rescale=1./255)"
   ]
  },
  {
   "cell_type": "code",
   "execution_count": 14,
   "metadata": {},
   "outputs": [
    {
     "name": "stdout",
     "output_type": "stream",
     "text": [
      "Found 9906 images belonging to 3 classes.\n"
     ]
    }
   ],
   "source": [
    "# this is a generator that will read pictures found in\n",
    "# subfolers of 'data/train', and indefinitely generate\n",
    "# batches of augmented image data\n",
    "train_generator = train_datagen.flow_from_directory(\n",
    "        'data/simulator/train',  # this is the target directory\n",
    "        target_size=(150, 150),  # all images will be resized to 150x150\n",
    "        batch_size=batch_size,\n",
    "        class_mode='binary')  # since we use binary_crossentropy loss, we need binary labels"
   ]
  },
  {
   "cell_type": "code",
   "execution_count": 15,
   "metadata": {},
   "outputs": [
    {
     "name": "stdout",
     "output_type": "stream",
     "text": [
      "Found 2942 images belonging to 3 classes.\n"
     ]
    }
   ],
   "source": [
    "# this is a similar generator, for validation data\n",
    "validation_generator = test_datagen.flow_from_directory(\n",
    "        'data/simulator/validation',\n",
    "        target_size=(150, 150),\n",
    "        batch_size=batch_size,\n",
    "        class_mode='binary')"
   ]
  },
  {
   "cell_type": "code",
   "execution_count": 17,
   "metadata": {},
   "outputs": [
    {
     "name": "stdout",
     "output_type": "stream",
     "text": [
      "Epoch 1/1\n",
      "125/125 [==============================] - 9s - loss: -5.1653 - acc: 0.6760 - val_loss: -4.9621 - val_acc: 0.6887\n"
     ]
    }
   ],
   "source": [
    "model.fit_generator(\n",
    "        train_generator,\n",
    "        steps_per_epoch=2000 // batch_size,\n",
    "        epochs=50,\n",
    "        validation_data=validation_generator,\n",
    "        validation_steps=800 // batch_size)\n",
    "model.save_weights('simulator_traffic_light_model.h5') # always save your weights after training or during training"
   ]
  },
  {
   "cell_type": "code",
   "execution_count": null,
   "metadata": {
    "collapsed": true
   },
   "outputs": [],
   "source": []
  }
 ],
 "metadata": {
  "kernelspec": {
   "display_name": "Python 3",
   "language": "python",
   "name": "python3"
  },
  "language_info": {
   "codemirror_mode": {
    "name": "ipython",
    "version": 3
   },
   "file_extension": ".py",
   "mimetype": "text/x-python",
   "name": "python",
   "nbconvert_exporter": "python",
   "pygments_lexer": "ipython3",
   "version": "3.5.2"
  },
  "widgets": {
   "state": {},
   "version": "1.1.2"
  }
 },
 "nbformat": 4,
 "nbformat_minor": 2
}
