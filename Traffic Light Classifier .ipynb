{
 "cells": [
  {
   "cell_type": "code",
   "execution_count": 1,
   "metadata": {},
   "outputs": [
    {
     "name": "stderr",
     "output_type": "stream",
     "text": [
      "Using TensorFlow backend.\n"
     ]
    }
   ],
   "source": [
    "from keras.preprocessing.image import ImageDataGenerator, array_to_img, img_to_array, load_img"
   ]
  },
  {
   "cell_type": "code",
   "execution_count": 2,
   "metadata": {},
   "outputs": [
    {
     "name": "stdout",
     "output_type": "stream",
     "text": [
      "2.0.8\n"
     ]
    }
   ],
   "source": [
    "import keras\n",
    "print(keras.__version__)"
   ]
  },
  {
   "cell_type": "code",
   "execution_count": 3,
   "metadata": {
    "collapsed": true
   },
   "outputs": [],
   "source": [
    "image_simulator_dir='data/simulator/'\n",
    "image_train_dir='data/simulator/train'\n",
    "image_validation_dir='data/simulator/validation'\n",
    "\n",
    "## red directory\n",
    "image_red_light_dir='red/'\n",
    "image_red_dir = image_simulator_dir + image_red_light_dir\n",
    "\n",
    "## green directory\n",
    "image_green_light_dir='green/'\n",
    "image_green_dir = image_simulator_dir + image_green_light_dir\n",
    "\n",
    "## yellow directory\n",
    "image_yellow_light_dir='yellow/'\n",
    "image_yellow_dir = image_simulator_dir + image_yellow_light_dir"
   ]
  },
  {
   "cell_type": "markdown",
   "metadata": {},
   "source": [
    "## Generate more training dataset"
   ]
  },
  {
   "cell_type": "code",
   "execution_count": 4,
   "metadata": {
    "collapsed": true
   },
   "outputs": [],
   "source": [
    "datagen = ImageDataGenerator(\n",
    "        rotation_range=0,\n",
    "        width_shift_range=0.2,\n",
    "        height_shift_range=0.2,\n",
    "        #rescale=1./255,\n",
    "        shear_range=0.2,\n",
    "        zoom_range=0.2,\n",
    "        horizontal_flip=True,\n",
    "        fill_mode='nearest')\n",
    "\n",
    "\n",
    "def augmentated_image(_number_of_outputs, _image_path, _source_image, _image_train_dir, _save_prefix, _save_format):\n",
    "    img = load_img(_image_path + _source_image)  # this is a PIL image\n",
    "    x = img_to_array(img)  # this is a Numpy array with shape (3, 150, 150)\n",
    "    x = x.reshape((1,) + x.shape)  # this is a Numpy array with shape (1, 3, 150, 150)\n",
    "    # the .flow() command below generates batches of randomly transformed images\n",
    "    # and saves the results to the `preview/` directory\n",
    "    i = 0\n",
    "    for batch in datagen.flow(x, batch_size=1,\n",
    "                              save_to_dir=_image_train_dir, \n",
    "                              save_prefix=_save_prefix, save_format=_save_format):\n",
    "        i += 1\n",
    "        if i > _number_of_outputs:\n",
    "            break  # otherwise the generator would loop indefinitely"
   ]
  },
  {
   "cell_type": "markdown",
   "metadata": {},
   "source": [
    "### Generate red light training dataset"
   ]
  },
  {
   "cell_type": "code",
   "execution_count": 5,
   "metadata": {
    "collapsed": true
   },
   "outputs": [],
   "source": [
    "augmentated_image(200, image_red_dir, 'red_0.jpg', image_train_dir + '/red', 'red', 'jpeg')\n",
    "augmentated_image(200, image_red_dir, 'red_1.jpg', image_train_dir + '/red', 'red', 'jpeg')\n",
    "augmentated_image(200, image_red_dir, 'red_2.jpg', image_train_dir + '/red', 'red', 'jpeg')\n",
    "augmentated_image(200, image_red_dir, 'red_3.jpg', image_train_dir + '/red', 'red', 'jpeg')"
   ]
  },
  {
   "cell_type": "markdown",
   "metadata": {},
   "source": [
    "### Generate green light training dataset "
   ]
  },
  {
   "cell_type": "code",
   "execution_count": 6,
   "metadata": {
    "collapsed": true
   },
   "outputs": [],
   "source": [
    "augmentated_image(200, image_green_dir, 'green_0.jpg', image_train_dir + '/green', 'green', 'jpeg')\n",
    "augmentated_image(200, image_green_dir, 'green_1.jpg', image_train_dir + '/green', 'green', 'jpeg')\n",
    "augmentated_image(200, image_green_dir, 'green_2.jpg', image_train_dir + '/green', 'green', 'jpeg')\n",
    "augmentated_image(200, image_green_dir, 'green_3.jpg', image_train_dir + '/green', 'green', 'jpeg')"
   ]
  },
  {
   "cell_type": "markdown",
   "metadata": {},
   "source": [
    "### Generate yellow light training dataset"
   ]
  },
  {
   "cell_type": "code",
   "execution_count": 7,
   "metadata": {
    "collapsed": true
   },
   "outputs": [],
   "source": [
    "augmentated_image(200, image_yellow_dir, 'yellow_0.jpg', image_train_dir + '/yellow', 'yellow', 'jpeg')\n",
    "augmentated_image(200, image_yellow_dir, 'yellow_1.jpg', image_train_dir + '/yellow', 'yellow', 'jpeg')\n",
    "augmentated_image(200, image_yellow_dir, 'yellow_2.jpg', image_train_dir + '/yellow', 'yellow', 'jpeg')\n",
    "augmentated_image(200, image_yellow_dir, 'yellow_3.jpg', image_train_dir + '/yellow', 'yellow', 'jpeg')"
   ]
  },
  {
   "cell_type": "markdown",
   "metadata": {},
   "source": [
    "## Validation Data Set"
   ]
  },
  {
   "cell_type": "markdown",
   "metadata": {},
   "source": [
    "### Generate red light validation dataset"
   ]
  },
  {
   "cell_type": "code",
   "execution_count": 8,
   "metadata": {
    "collapsed": true
   },
   "outputs": [],
   "source": [
    "augmentated_image(50, image_red_dir, 'red_0.jpg', image_validation_dir + '/red', 'red', 'jpeg')\n",
    "augmentated_image(50, image_red_dir, 'red_1.jpg', image_validation_dir + '/red', 'red', 'jpeg')\n",
    "augmentated_image(50, image_red_dir, 'red_2.jpg', image_validation_dir + '/red', 'red', 'jpeg')\n",
    "augmentated_image(50, image_red_dir, 'red_3.jpg', image_validation_dir + '/red', 'red', 'jpeg')"
   ]
  },
  {
   "cell_type": "markdown",
   "metadata": {},
   "source": [
    "### Generate green light validation dataset"
   ]
  },
  {
   "cell_type": "code",
   "execution_count": 9,
   "metadata": {
    "collapsed": true
   },
   "outputs": [],
   "source": [
    "augmentated_image(50, image_green_dir, 'green_0.jpg', image_validation_dir + '/green', 'green', 'jpeg')\n",
    "augmentated_image(50, image_green_dir, 'green_1.jpg', image_validation_dir + '/green', 'green', 'jpeg')\n",
    "augmentated_image(50, image_green_dir, 'green_2.jpg', image_validation_dir + '/green', 'green', 'jpeg')\n",
    "augmentated_image(50, image_green_dir, 'green_3.jpg', image_validation_dir + '/green', 'green', 'jpeg')"
   ]
  },
  {
   "cell_type": "markdown",
   "metadata": {},
   "source": [
    "### Generate yellow light validation dataset"
   ]
  },
  {
   "cell_type": "code",
   "execution_count": 10,
   "metadata": {
    "collapsed": true
   },
   "outputs": [],
   "source": [
    "augmentated_image(50, image_yellow_dir, 'yellow_0.jpg', image_validation_dir + '/yellow', 'yellow', 'jpeg')\n",
    "augmentated_image(50, image_yellow_dir, 'yellow_1.jpg', image_validation_dir + '/yellow', 'yellow', 'jpeg')\n",
    "augmentated_image(50, image_yellow_dir, 'yellow_2.jpg', image_validation_dir + '/yellow', 'yellow', 'jpeg')\n",
    "augmentated_image(50, image_yellow_dir, 'yellow_3.jpg', image_validation_dir + '/yellow', 'yellow', 'jpeg')"
   ]
  },
  {
   "cell_type": "markdown",
   "metadata": {},
   "source": [
    "## Convolution Neural Network"
   ]
  },
  {
   "cell_type": "code",
   "execution_count": 11,
   "metadata": {
    "collapsed": true
   },
   "outputs": [],
   "source": [
    "from keras.preprocessing.image import ImageDataGenerator\n",
    "from keras.models import Sequential\n",
    "from keras.layers import Conv2D, MaxPooling2D\n",
    "from keras.layers import Activation, Dropout, Flatten, Dense\n",
    "from keras import backend as K\n",
    "\n",
    "# dimensions of our images.\n",
    "img_width, img_height = 150, 150\n",
    "\n",
    "if K.image_data_format() == 'channels_first':\n",
    "    input_shape = (3, img_width, img_height)\n",
    "else:\n",
    "    input_shape = (img_width, img_height, 3)\n",
    "    \n",
    "model = Sequential()\n",
    "model.add(Conv2D(32, (3, 3), input_shape=input_shape))\n",
    "model.add(Activation('relu'))\n",
    "model.add(MaxPooling2D(pool_size=(2, 2)))\n",
    "\n",
    "model.add(Conv2D(32, (3, 3)))\n",
    "model.add(Activation('relu'))\n",
    "model.add(MaxPooling2D(pool_size=(2, 2)))\n",
    "\n",
    "model.add(Conv2D(64, (3, 3)))\n",
    "model.add(Activation('relu'))\n",
    "model.add(MaxPooling2D(pool_size=(2, 2)))\n",
    "\n",
    "model.add(Flatten())\n",
    "model.add(Dense(64))\n",
    "model.add(Activation('relu'))\n",
    "model.add(Dropout(0.5))\n",
    "model.add(Dense(1))\n",
    "model.add(Activation('sigmoid'))"
   ]
  },
  {
   "cell_type": "code",
   "execution_count": 12,
   "metadata": {
    "collapsed": true
   },
   "outputs": [],
   "source": [
    "model.compile(loss='binary_crossentropy',\n",
    "              optimizer='rmsprop',\n",
    "              metrics=['accuracy'])"
   ]
  },
  {
   "cell_type": "code",
   "execution_count": 13,
   "metadata": {
    "collapsed": true
   },
   "outputs": [],
   "source": [
    "batch_size = 16\n",
    "\n",
    "# this is the augmentation configuration we will use for training\n",
    "train_datagen = ImageDataGenerator(\n",
    "        rescale=1./255,\n",
    "        shear_range=0.2,\n",
    "        zoom_range=0.2,\n",
    "        horizontal_flip=True)\n",
    "\n",
    "# this is the augmentation configuration we will use for testing:\n",
    "# only rescaling\n",
    "test_datagen = ImageDataGenerator(rescale=1./255)"
   ]
  },
  {
   "cell_type": "code",
   "execution_count": 14,
   "metadata": {},
   "outputs": [
    {
     "name": "stdout",
     "output_type": "stream",
     "text": [
      "Found 11450 images belonging to 3 classes.\n"
     ]
    }
   ],
   "source": [
    "# this is a generator that will read pictures found in\n",
    "# subfolers of 'data/train', and indefinitely generate\n",
    "# batches of augmented image data\n",
    "train_generator = train_datagen.flow_from_directory(\n",
    "        'data/simulator/train',  # this is the target directory\n",
    "        target_size=(150, 150),  # all images will be resized to 150x150\n",
    "        batch_size=batch_size,\n",
    "        class_mode='binary')  # since we use binary_crossentropy loss, we need binary labels"
   ]
  },
  {
   "cell_type": "code",
   "execution_count": 15,
   "metadata": {},
   "outputs": [
    {
     "name": "stdout",
     "output_type": "stream",
     "text": [
      "Found 3490 images belonging to 3 classes.\n"
     ]
    }
   ],
   "source": [
    "# this is a similar generator, for validation data\n",
    "validation_generator = test_datagen.flow_from_directory(\n",
    "        'data/simulator/validation',\n",
    "        target_size=(150, 150),\n",
    "        batch_size=batch_size,\n",
    "        class_mode='binary')"
   ]
  },
  {
   "cell_type": "code",
   "execution_count": 16,
   "metadata": {},
   "outputs": [
    {
     "name": "stdout",
     "output_type": "stream",
     "text": [
      "Epoch 1/50\n",
      "125/125 [==============================] - 10s - loss: -4.3347 - acc: 0.5620 - val_loss: -5.4897 - val_acc: 0.6550\n",
      "Epoch 2/50\n",
      "125/125 [==============================] - 9s - loss: -5.2913 - acc: 0.6605 - val_loss: -5.2188 - val_acc: 0.6713\n",
      "Epoch 3/50\n",
      "125/125 [==============================] - 9s - loss: -5.3676 - acc: 0.6570 - val_loss: -5.3008 - val_acc: 0.6675\n",
      "Epoch 4/50\n",
      "125/125 [==============================] - 9s - loss: -5.1660 - acc: 0.6715 - val_loss: -5.1924 - val_acc: 0.6743\n",
      "Epoch 5/50\n",
      "125/125 [==============================] - 9s - loss: -5.4592 - acc: 0.6545 - val_loss: -4.9421 - val_acc: 0.6900\n",
      "Epoch 6/50\n",
      "125/125 [==============================] - 9s - loss: -5.1156 - acc: 0.6764 - val_loss: -5.4403 - val_acc: 0.6587\n",
      "Epoch 7/50\n",
      "125/125 [==============================] - 9s - loss: -5.2121 - acc: 0.6695 - val_loss: -5.4003 - val_acc: 0.6613\n",
      "Epoch 8/50\n",
      "125/125 [==============================] - 9s - loss: -5.5747 - acc: 0.6500 - val_loss: -5.3633 - val_acc: 0.6616\n",
      "Epoch 9/50\n",
      "125/125 [==============================] - 9s - loss: -5.0546 - acc: 0.6800 - val_loss: -5.8788 - val_acc: 0.6312\n",
      "Epoch 10/50\n",
      "125/125 [==============================] - 9s - loss: -5.4598 - acc: 0.6570 - val_loss: -5.0418 - val_acc: 0.6837\n",
      "Epoch 11/50\n",
      "125/125 [==============================] - 9s - loss: -5.3944 - acc: 0.6565 - val_loss: -4.8026 - val_acc: 0.6987\n",
      "Epoch 12/50\n",
      "125/125 [==============================] - 9s - loss: -5.2942 - acc: 0.6679 - val_loss: -5.3806 - val_acc: 0.6625\n",
      "Epoch 13/50\n",
      "125/125 [==============================] - 9s - loss: -5.2878 - acc: 0.6630 - val_loss: -5.0019 - val_acc: 0.6863\n",
      "Epoch 14/50\n",
      "125/125 [==============================] - 9s - loss: -5.4437 - acc: 0.6585 - val_loss: -5.5599 - val_acc: 0.6512\n",
      "Epoch 15/50\n",
      "125/125 [==============================] - 9s - loss: -5.0999 - acc: 0.6690 - val_loss: -5.2127 - val_acc: 0.6730\n",
      "Epoch 16/50\n",
      "125/125 [==============================] - 9s - loss: -5.4639 - acc: 0.6545 - val_loss: -5.5797 - val_acc: 0.6500\n",
      "Epoch 17/50\n",
      "125/125 [==============================] - 9s - loss: -5.3226 - acc: 0.6655 - val_loss: -5.0617 - val_acc: 0.6825\n",
      "Epoch 18/50\n",
      "125/125 [==============================] - 9s - loss: -5.3806 - acc: 0.6586 - val_loss: -5.0617 - val_acc: 0.6825\n",
      "Epoch 19/50\n",
      "125/125 [==============================] - 9s - loss: -5.5627 - acc: 0.6510 - val_loss: -5.4155 - val_acc: 0.6603\n",
      "Epoch 20/50\n",
      "125/125 [==============================] - 9s - loss: -5.1670 - acc: 0.6720 - val_loss: -5.1016 - val_acc: 0.6800\n",
      "Epoch 21/50\n",
      "125/125 [==============================] - 9s - loss: -5.1661 - acc: 0.6750 - val_loss: -5.7791 - val_acc: 0.6375\n",
      "Epoch 22/50\n",
      "125/125 [==============================] - 9s - loss: -5.0620 - acc: 0.6805 - val_loss: -5.3407 - val_acc: 0.6650\n",
      "Epoch 23/50\n",
      "125/125 [==============================] - 9s - loss: -5.5150 - acc: 0.6539 - val_loss: -4.8624 - val_acc: 0.6950\n",
      "Epoch 24/50\n",
      "125/125 [==============================] - 9s - loss: -5.4353 - acc: 0.6585 - val_loss: -5.7592 - val_acc: 0.6388\n",
      "Epoch 25/50\n",
      "125/125 [==============================] - 9s - loss: -5.5240 - acc: 0.6535 - val_loss: -5.3407 - val_acc: 0.6650\n",
      "Epoch 26/50\n",
      "125/125 [==============================] - 9s - loss: -5.3492 - acc: 0.6625 - val_loss: -4.9896 - val_acc: 0.6870\n",
      "Epoch 27/50\n",
      "125/125 [==============================] - 9s - loss: -5.1892 - acc: 0.6745 - val_loss: -5.4603 - val_acc: 0.6575\n",
      "Epoch 28/50\n",
      "125/125 [==============================] - 9s - loss: -5.1972 - acc: 0.6740 - val_loss: -5.2411 - val_acc: 0.6713\n",
      "Epoch 29/50\n",
      "125/125 [==============================] - 9s - loss: -5.3031 - acc: 0.6668 - val_loss: -5.3407 - val_acc: 0.6650\n",
      "Epoch 30/50\n",
      "125/125 [==============================] - 9s - loss: -5.0000 - acc: 0.6855 - val_loss: -5.3344 - val_acc: 0.6654\n",
      "Epoch 31/50\n",
      "125/125 [==============================] - 9s - loss: -5.4461 - acc: 0.6580 - val_loss: -5.4403 - val_acc: 0.6587\n",
      "Epoch 32/50\n",
      "125/125 [==============================] - 9s - loss: -5.4280 - acc: 0.6595 - val_loss: -5.5400 - val_acc: 0.6525\n",
      "Epoch 33/50\n",
      "125/125 [==============================] - 9s - loss: -5.1365 - acc: 0.6770 - val_loss: -5.2660 - val_acc: 0.6587\n",
      "Epoch 34/50\n",
      "125/125 [==============================] - 9s - loss: -5.6146 - acc: 0.6455 - val_loss: -4.9820 - val_acc: 0.6875\n",
      "Epoch 35/50\n",
      "125/125 [==============================] - 9s - loss: -5.3433 - acc: 0.6635 - val_loss: -5.4005 - val_acc: 0.6613\n",
      "Epoch 36/50\n",
      "125/125 [==============================] - 9s - loss: -5.1175 - acc: 0.6790 - val_loss: -5.1613 - val_acc: 0.6763\n",
      "Epoch 37/50\n",
      "125/125 [==============================] - 9s - loss: -5.6372 - acc: 0.6445 - val_loss: -5.6387 - val_acc: 0.6463\n",
      "Epoch 38/50\n",
      "125/125 [==============================] - 9s - loss: -5.4679 - acc: 0.6570 - val_loss: -5.0617 - val_acc: 0.6825\n",
      "Epoch 39/50\n",
      "125/125 [==============================] - 9s - loss: -5.2033 - acc: 0.6730 - val_loss: -5.4802 - val_acc: 0.6562\n",
      "Epoch 40/50\n",
      "125/125 [==============================] - 9s - loss: -5.3461 - acc: 0.6645 - val_loss: -5.4603 - val_acc: 0.6575\n",
      "Epoch 41/50\n",
      "125/125 [==============================] - 9s - loss: -5.4154 - acc: 0.6603 - val_loss: -5.0505 - val_acc: 0.6832\n",
      "Epoch 42/50\n",
      "125/125 [==============================] - 9s - loss: -5.6420 - acc: 0.6460 - val_loss: -5.1813 - val_acc: 0.6750\n",
      "Epoch 43/50\n",
      "125/125 [==============================] - 9s - loss: -5.1733 - acc: 0.6755 - val_loss: -5.6197 - val_acc: 0.6475\n",
      "Epoch 44/50\n",
      "125/125 [==============================] - 9s - loss: -5.3645 - acc: 0.6635 - val_loss: -5.2809 - val_acc: 0.6687\n",
      "Epoch 45/50\n",
      "125/125 [==============================] - 9s - loss: -5.0936 - acc: 0.6805 - val_loss: -5.2012 - val_acc: 0.6737\n",
      "Epoch 46/50\n",
      "125/125 [==============================] - 9s - loss: -5.3598 - acc: 0.6638 - val_loss: -5.3606 - val_acc: 0.6637\n",
      "Epoch 47/50\n",
      "125/125 [==============================] - 9s - loss: -5.1616 - acc: 0.6755 - val_loss: -5.4204 - val_acc: 0.6600\n",
      "Epoch 48/50\n",
      "125/125 [==============================] - 9s - loss: -5.5983 - acc: 0.6480 - val_loss: -5.5170 - val_acc: 0.6539\n",
      "Epoch 49/50\n",
      "125/125 [==============================] - 9s - loss: -5.2052 - acc: 0.6735 - val_loss: -5.1414 - val_acc: 0.6775\n",
      "Epoch 50/50\n",
      "125/125 [==============================] - 9s - loss: -5.3398 - acc: 0.6645 - val_loss: -5.4603 - val_acc: 0.6575\n"
     ]
    }
   ],
   "source": [
    "model.fit_generator(\n",
    "        train_generator,\n",
    "        steps_per_epoch=2000 // batch_size,\n",
    "        epochs=50,\n",
    "        validation_data=validation_generator,\n",
    "        validation_steps=800 // batch_size)\n",
    "model.save_weights('simulator_traffic_light_model.h5') # always save your weights after training or during training"
   ]
  },
  {
   "cell_type": "code",
   "execution_count": null,
   "metadata": {
    "collapsed": true
   },
   "outputs": [],
   "source": []
  }
 ],
 "metadata": {
  "kernelspec": {
   "display_name": "Python 3",
   "language": "python",
   "name": "python3"
  },
  "language_info": {
   "codemirror_mode": {
    "name": "ipython",
    "version": 3
   },
   "file_extension": ".py",
   "mimetype": "text/x-python",
   "name": "python",
   "nbconvert_exporter": "python",
   "pygments_lexer": "ipython3",
   "version": "3.5.2"
  },
  "widgets": {
   "state": {},
   "version": "1.1.2"
  }
 },
 "nbformat": 4,
 "nbformat_minor": 2
}
